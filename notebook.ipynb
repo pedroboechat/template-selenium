{
 "cells": [
  {
   "cell_type": "markdown",
   "metadata": {},
   "source": [
    "# Selenium template"
   ]
  },
  {
   "cell_type": "markdown",
   "metadata": {},
   "source": [
    "## Imports"
   ]
  },
  {
   "cell_type": "code",
   "execution_count": 1,
   "metadata": {},
   "outputs": [],
   "source": [
    "# Standard libraries\n",
    "from os import getenv\n",
    "\n",
    "# External libraries\n",
    "from bs4 import BeautifulSoup as bs\n",
    "from dotenv import load_dotenv\n",
    "import pandas as pd\n",
    "from selenium import webdriver\n",
    "from selenium.common.exceptions import (\n",
    "    NoSuchElementException,\n",
    "    TimeoutException,\n",
    "    StaleElementReferenceException\n",
    ")\n",
    "from selenium.webdriver.common.action_chains import ActionChains\n",
    "from selenium.webdriver.common.by import By\n",
    "from selenium.webdriver.support.ui import WebDriverWait, Select\n",
    "from selenium.webdriver.support import expected_conditions as ec"
   ]
  },
  {
   "cell_type": "markdown",
   "metadata": {},
   "source": [
    "## Load environment variables"
   ]
  },
  {
   "cell_type": "code",
   "execution_count": 2,
   "metadata": {},
   "outputs": [],
   "source": [
    "BROWSER = getenv(\"BROWSER\").lower()\n",
    "DRIVERPATH = getenv(\"DRIVERPATH\")\n",
    "HEADLESS = int(getenv(\"HEADLESS\")) == 1\n",
    "LOGPATH = getenv(\"LOGPATH\")"
   ]
  },
  {
   "cell_type": "markdown",
   "metadata": {},
   "source": [
    "## WebDriver instance"
   ]
  },
  {
   "cell_type": "code",
   "execution_count": 3,
   "metadata": {},
   "outputs": [],
   "source": [
    "if BROWSER == \"firefox\":\n",
    "    # Import libraries\n",
    "    from webdriver_manager.firefox import GeckoDriverManager\n",
    "    from selenium.webdriver.firefox.service import Service as FirefoxService\n",
    "\n",
    "    # Add headless option\n",
    "    options = webdriver.FirefoxOptions()\n",
    "    if HEADLESS:\n",
    "        options.add_argument(\"--headless\")\n",
    "\n",
    "    # Get WebDriver path\n",
    "    if DRIVERPATH == \"webdriver-manager\":\n",
    "        DRIVERPATH = GeckoDriverManager().install()\n",
    "\n",
    "    # Instantiate WebDriver\n",
    "    driver = webdriver.Firefox(\n",
    "        service=FirefoxService(\n",
    "            executable_path=DRIVERPATH,\n",
    "            log_output=LOGPATH\n",
    "        ),\n",
    "        options=options\n",
    "    )\n",
    "elif BROWSER == \"chrome\":\n",
    "    # Import libraries\n",
    "    from webdriver_manager.chrome import ChromeDriverManager\n",
    "    from selenium.webdriver.chrome.service import Service as ChromeService\n",
    "\n",
    "    # Add headless option\n",
    "    options = webdriver.ChromeOptions()\n",
    "    if HEADLESS:\n",
    "        options.add_argument(\"--headless\")\n",
    "\n",
    "    # Get WebDriver path\n",
    "    if DRIVERPATH == \"webdriver-manager\":\n",
    "        DRIVERPATH = ChromeDriverManager().install()\n",
    "\n",
    "    # Instantiate WebDriver\n",
    "    driver = webdriver.Chrome(\n",
    "        service=ChromeService(\n",
    "            executable_path=DRIVERPATH,\n",
    "            log_output=LOGPATH\n",
    "        ),\n",
    "        options=options\n",
    "    )\n",
    "elif BROWSER == \"chromium\":\n",
    "    # Import libraries\n",
    "    from webdriver_manager.chrome import ChromeDriverManager\n",
    "    from webdriver_manager.core.utils import ChromeType\n",
    "    from selenium.webdriver.chrome.service import Service as ChromiumService\n",
    "\n",
    "    # Add headless option\n",
    "    options = webdriver.ChromeOptions()\n",
    "    if HEADLESS:\n",
    "        options.add_argument(\"--headless\")\n",
    "\n",
    "    # Get WebDriver path\n",
    "    if DRIVERPATH == \"webdriver-manager\":\n",
    "        DRIVERPATH = ChromeDriverManager(chrome_type=ChromeType.CHROMIUM).install()\n",
    "\n",
    "    # Instantiate WebDriver\n",
    "    driver = webdriver.Chrome(\n",
    "        service=ChromiumService(\n",
    "            executable_path=DRIVERPATH,\n",
    "            log_output=LOGPATH\n",
    "        ),\n",
    "        options=options\n",
    "    )\n",
    "else:\n",
    "    raise ValueError(f\"Invalid browser: {BROWSER}\")\n",
    "\n",
    "action = ActionChains(driver)"
   ]
  },
  {
   "cell_type": "code",
   "execution_count": 4,
   "metadata": {},
   "outputs": [],
   "source": [
    "driver.close()"
   ]
  }
 ],
 "metadata": {
  "kernelspec": {
   "display_name": "base",
   "language": "python",
   "name": "python3"
  },
  "language_info": {
   "codemirror_mode": {
    "name": "ipython",
    "version": 3
   },
   "file_extension": ".py",
   "mimetype": "text/x-python",
   "name": "python",
   "nbconvert_exporter": "python",
   "pygments_lexer": "ipython3",
   "version": "3.11.4"
  },
  "orig_nbformat": 4
 },
 "nbformat": 4,
 "nbformat_minor": 2
}
